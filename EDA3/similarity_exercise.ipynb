{
 "cells": [
  {
   "cell_type": "markdown",
   "metadata": {
    "id": "HltylzEeXNR0"
   },
   "source": [
    "# Similarity measures"
   ]
  },
  {
   "cell_type": "markdown",
   "metadata": {
    "id": "s4PG889PXNR4"
   },
   "source": [
    "The following workbook is based on p. 236 of the text, exercises 2.124–127, regarding \"similarity\" of two sets.\n"
   ]
  },
  {
   "cell_type": "markdown",
   "metadata": {
    "id": "t8IyJeXOXNR5"
   },
   "source": [
    "## Definitions of similarity"
   ]
  },
  {
   "cell_type": "markdown",
   "metadata": {
    "id": "mrpWL49_XNR6"
   },
   "source": [
    "Given two sets $A$ and $B$:\n",
    "* the _cardinality measure_ of similarity is $|A \\cap B|$\n",
    "* the _Jaccard coefficient_ of similarity is $\\frac{|A \\cap B|}{|A \\cup B|}$"
   ]
  },
  {
   "cell_type": "markdown",
   "metadata": {
    "id": "ap5weIa-XNR6"
   },
   "source": [
    "**Question:** In your own words, explain why these two measures can represent the similarity of two sets, and explain the difference between the two."
   ]
  },
  {
   "cell_type": "markdown",
   "metadata": {
    "id": "sYtLe0PfXNR6"
   },
   "source": [
    "The cardinality measure of similarity gives the number of items that are elements of both sets whereas the Jaccard coefficient gives the ratio of the number of items that are elements of both sets to the total number of unique elements in both sets. These two measures both represent similarity because they both give an idea of the quantity of elements that are members of both sets. \n",
    "\n",
    "The cardinality measures gives the items that are elements of both sets without context regarding the sets themselves. The Jaccard coefficient gives a better idea of what each set looks like, in terms of similarity, by providing the context of all items that are elements of both sets. However, the Jaccard coefficient does not provide the number of elements the sets have in common. "
   ]
  },
  {
   "cell_type": "markdown",
   "metadata": {
    "id": "xkT13sDQXNR7"
   },
   "source": []
  },
  {
   "cell_type": "markdown",
   "metadata": {
    "id": "SvsqPqq_XNR8"
   },
   "source": [
    "## Similarity as a metric"
   ]
  },
  {
   "cell_type": "markdown",
   "metadata": {
    "id": "aq7d4OKyXNR8"
   },
   "source": [
    "In class we defined a metric, which is a distance function that obeys some nice, standard properties.  See the writeup distributed in Week 2 notes for more information about metrics.\n",
    "\n",
    "Similarity, as a measure, is essentially the opposite of \"distance\":  two sets that are similar are not very \"far apart\".\n",
    "\n",
    "In fact, it turns out we can formalize this mathematically.  Consider the function\n",
    "$$ \\mathrm{dist}(A, B) = 1 - \\frac{|A \\cap B|}{|A \\cup B|}.$$\n",
    "Intuitively, this is the \"opposite\" of the Jaccard coefficient:  Think of the coefficient as a percentage, because it's a fraction between $0$ and $1$; if the Jaccard coefficient of $A$ and $B$ says something like the sets are \"20% similar,\" then $\\mathrm{dist}(A, B)$ would say they are \"80% different.\"\n",
    "\n",
    "This function is in fact a metric on sets.  Below, justify this by arguing that this function satisfies the four properties that a metric must satisfy (non-negativity, identity, symmetry, and triangle inequality)."
   ]
  },
  {
   "cell_type": "markdown",
   "metadata": {
    "id": "0fWHZHPNXNR9"
   },
   "source": []
  },
  {
   "cell_type": "markdown",
   "metadata": {
    "id": "LuqH0ofvXNR-"
   },
   "source": [
    "## Computing the two measures"
   ]
  },
  {
   "cell_type": "markdown",
   "metadata": {
    "id": "GyKwRf-DXNR-"
   },
   "source": [
    "Implement a python function `sim_card` that returns the similarity of two sets using the cardinality measure:"
   ]
  },
  {
   "cell_type": "code",
   "execution_count": 4,
   "metadata": {
    "id": "LDdleaQBXNR_",
    "tags": []
   },
   "outputs": [],
   "source": [
    "def sim_card(set1, set2):\n",
    "    cardinalidad = set1.intersection(set2)\n",
    "    return cardinalidad"
   ]
  },
  {
   "cell_type": "markdown",
   "metadata": {
    "id": "hM1f4m2dXNSA"
   },
   "source": [
    "Implement a python function `sim_jaccard` that returns the similarity of two sets using the Jaccard coefficient:"
   ]
  },
  {
   "cell_type": "code",
   "execution_count": 5,
   "metadata": {
    "id": "s9neF6aHXNSA",
    "tags": []
   },
   "outputs": [],
   "source": [
    "def sim_jaccard(set1, set2):\n",
    "    intcrd = sim_card(set1, set2)\n",
    "    unioncrd = set1.union(set2)\n",
    "    return len(intcrd) / len(unioncrd)"
   ]
  },
  {
   "cell_type": "markdown",
   "metadata": {
    "id": "_tUmjj2CXNSB"
   },
   "source": [
    "You can use this space to test your functions.  Just be sure to hit the \"run\" button on the blocks above after you make changes, so that calling them below will invoke the correct code."
   ]
  },
  {
   "cell_type": "code",
   "execution_count": 6,
   "metadata": {
    "id": "Ba7UJJz3XNSB",
    "outputId": "5b0f8efa-b4bd-4e86-a993-a1d0979150cd"
   },
   "outputs": [
    {
     "name": "stdout",
     "output_type": "stream",
     "text": [
      "The cardinality of jeffrey and jeff is {1, 2, 3, 4, 5, 6}  and the jaccard coefficient is 0.6\n",
      "The cardinality of kevin and kev is {11, 12, 13}  and the jaccard coefficient is 1.0\n",
      "The cardinality of kevin and kev is set()  and the jaccard coefficient is 0.0\n"
     ]
    }
   ],
   "source": [
    "jeff = [1, 2, 3, 4, 5, 6]\n",
    "jeffrey = [1, 2, 3, 4, 5, 6, 7, 8, 9, 10]\n",
    "\n",
    "jeff = set(jeff)\n",
    "jeffrey = set(jeffrey)\n",
    "\n",
    "kevin = [11, 12, 13]\n",
    "kev = [11, 12, 13]\n",
    "\n",
    "kevin = set(kevin)\n",
    "kev = set(kev)\n",
    "\n",
    "a = sim_card(jeffrey, jeff) \n",
    "b = sim_jaccard(jeffrey, jeff)\n",
    "\n",
    "c = sim_card(kevin, kev)  \n",
    "d = sim_jaccard(kevin, kev)\n",
    "\n",
    "e = sim_card(kev, jeff)  \n",
    "f = sim_jaccard(kev, jeff) \n",
    "\n",
    "print(\"The cardinality of jeffrey and jeff is\", a, \" and the jaccard coefficient is\", b)\n",
    "print(\"The cardinality of kevin and kev is\", c, \" and the jaccard coefficient is\", d)\n",
    "print(\"The cardinality of kevin and kev is\", e, \" and the jaccard coefficient is\", f)"
   ]
  },
  {
   "cell_type": "code",
   "execution_count": null,
   "metadata": {},
   "outputs": [],
   "source": []
  }
 ],
 "metadata": {
  "colab": {
   "provenance": []
  },
  "kernelspec": {
   "display_name": "Python 3 (ipykernel)",
   "language": "python",
   "name": "python3"
  },
  "language_info": {
   "codemirror_mode": {
    "name": "ipython",
    "version": 3
   },
   "file_extension": ".py",
   "mimetype": "text/x-python",
   "name": "python",
   "nbconvert_exporter": "python",
   "pygments_lexer": "ipython3",
   "version": "3.9.7"
  },
  "vscode": {
   "interpreter": {
    "hash": "1d560eb1adf81cf6d0d2c29d887570bf5a31c4d06a1010589a8ded32ced535b4"
   }
  }
 },
 "nbformat": 4,
 "nbformat_minor": 4
}
