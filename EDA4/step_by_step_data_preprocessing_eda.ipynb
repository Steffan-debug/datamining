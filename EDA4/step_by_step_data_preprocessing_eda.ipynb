{
  "cells": [
    {
      "metadata": {
        "_uuid": "8c6a654a70b19670e20a5bd633d1ecfa0962798c",
        "id": "Gcs1ndW2XLoI"
      },
      "cell_type": "markdown",
      "source": [
        "*Aditya Agrawal*\n",
        "\n",
        "I intend to make this as a simple-to-follow, yet thorough Exploratory Data Analysis task using Python, seaborn and matplotlib. It is my first kernel and feedback would be greatly appreciated. Also, feel free to upvote if you like the work!\n",
        "\n",
        "**Update V29:**\n",
        "1. Ordered categories added.\n",
        "2. Violin plot- shoe-size vs height.\n",
        "\n",
        "### Table of Contents: <a id=\"1\"></a>\n",
        "1. [About the dataset](#1)\n",
        "2. [Importing Data- Modcloth](#3)\n",
        "3. [EDA & Preprocessing](#4)\n",
        "    1. [Boxplot of Numerical Variables](#5)\n",
        "    2. [Handling Outliers](#6)\n",
        "    3. [Joint Distribution of bra_size vs size](#7)\n",
        "4. [Data Cleaning & Preprocessing](#8)\n",
        "    1. [Initial Distribution of Features](#9)\n",
        "    2. [Step-by-step feature processing](#10)\n",
        "        1. [Feature Engineering - new feature added](#11)\n",
        "5. [EDA via Visualizations](#12)\n",
        "    1. [Distribution of features](#13)\n",
        "    2. [Categories vs. Fit/Length/Quality](#14)\n",
        "    3. [Users vs Items bought](#15)\n",
        "    4. [Height vs Shoe-size](#16)\n",
        "6. [References](#references)\n",
        "7. [Assumptions](#assumptions)\n",
        "\n",
        "<a id=\"1\"></a>\n",
        "### About the dataset\n",
        "\n",
        ">This dataset contains self-reported clothing-fit feedback from customers as well as other side information like reviews, ratings, product categories, catalog sizes, customers’ measurements (etc.) from 2 websites:\n",
        ">1. [Modcloth](http://modcloth.com)\n",
        ">2. [Renttherunway](http://renttherunway.com)\n",
        ">\n",
        ">[[1]](#references) ModCloth sells women’s vintage clothing and accessories, from which the curator of the dataset collected data from three categories: dresses, tops, and bottoms. RentTheRunWay is a unique platform that allows women to rent clothes for various occasions; they collected data from several categories. \n",
        ">\n",
        ">**Note:** In both datasets, fit feedback belongs to one of three classes: ‘Small,’ ‘Fit,’ and ‘Large.’ And also, some [assumptions](#assumptions) have been made about the features in the dataset."
      ]
    },
    {
      "metadata": {
        "_uuid": "8f2839f25d086af736a60e9eeb907d3b93b6e0e5",
        "_cell_guid": "b1076dfc-b9ad-4769-8c92-a6c4dae69d19",
        "trusted": true,
        "_kg_hide-input": true,
        "_kg_hide-output": true,
        "colab": {
          "base_uri": "https://localhost:8080/"
        },
        "id": "clR9j7rVXLoM",
        "outputId": "05d6e023-534d-45b4-ce40-022780226526"
      },
      "cell_type": "code",
      "source": [
        "import numpy as np # linear algebra\n",
        "import pandas as pd # data processing, CSV file I/O (e.g. pd.read_csv)\n",
        "import matplotlib.pyplot as plt\n",
        "import seaborn as sns\n",
        "import os\n",
        "from google.colab import drive\n",
        "drive.mount('/content/gdrive')\n",
        "print(os.listdir(\"/content/gdrive/My Drive/Shared_Data\"))\n",
        "\n",
        "# Suppressing all warnings\n",
        "import warnings\n",
        "warnings.filterwarnings(\"ignore\")\n",
        "\n",
        "import matplotlib\n",
        "matplotlib.rc('figure', figsize = (20, 8))\n",
        "matplotlib.rc('font', size = 14)\n",
        "matplotlib.rc('axes.spines', top = False, right = False)\n",
        "matplotlib.rc('axes', grid = False)\n",
        "matplotlib.rc('axes', facecolor = 'white')"
      ],
      "execution_count": null,
      "outputs": [
        {
          "output_type": "stream",
          "name": "stdout",
          "text": [
            "Mounted at /content/gdrive\n",
            "['renttherunway_final_data.json', 'modcloth_final_data.json']\n"
          ]
        }
      ]
    },
    {
      "metadata": {
        "_uuid": "0afe5de71cb8f3be40b3ed12413d7f9cea6f7cf3",
        "id": "b4AvhXzpXLoN"
      },
      "cell_type": "markdown",
      "source": [
        "<a id=\"2\"></a>\n",
        "#  [Modcloth](http://modcloth.com) Dataset\n",
        "<a id=\"3\"></a>\n",
        "## Importing data using Pandas\n",
        "Taking a look at the first few lines of the modcloth data's json file using the inbuilt OS bash command-head. "
      ]
    },
    {
      "metadata": {
        "trusted": true,
        "_uuid": "e562b7dc4a103ff114b6139483e869159f67fc22",
        "_kg_hide-output": true,
        "colab": {
          "base_uri": "https://localhost:8080/"
        },
        "id": "YHhM0NMXXLoO",
        "outputId": "cd209a80-a7d3-44c6-e56b-c8d670417299"
      },
      "cell_type": "code",
      "source": [
        "# Execute this in your kernel to view the first n (here-4) lines of the json file.\n",
        "! head -n 4 \"/content/gdrive/My Drive/Shared_Data/modcloth_final_data.json\""
      ],
      "execution_count": null,
      "outputs": [
        {
          "output_type": "stream",
          "name": "stdout",
          "text": [
            "{\"item_id\": \"123373\", \"waist\": \"29\", \"size\": 7, \"quality\": 5, \"cup size\": \"d\", \"hips\": \"38\", \"bra size\": \"34\", \"category\": \"new\", \"bust\": \"36\", \"height\": \"5ft 6in\", \"user_name\": \"Emily\", \"length\": \"just right\", \"fit\": \"small\", \"user_id\": \"991571\"}\r\n",
            "{\"item_id\": \"123373\", \"waist\": \"31\", \"size\": 13, \"quality\": 3, \"cup size\": \"b\", \"hips\": \"30\", \"bra size\": \"36\", \"category\": \"new\", \"length\": \"just right\", \"height\": \"5ft 2in\", \"user_name\": \"sydneybraden2001\", \"fit\": \"small\", \"user_id\": \"587883\"}\r\n",
            "{\"item_id\": \"123373\", \"waist\": \"30\", \"size\": 7, \"quality\": 2, \"cup size\": \"b\", \"shoe size\": \"9.00\", \"bra size\": \"32\", \"category\": \"new\", \"length\": \"slightly long\", \"height\": \"5ft 7in\", \"user_name\": \"Ugggh\", \"fit\": \"small\", \"user_id\": \"395665\"}\r\n",
            "{\"item_id\": \"123373\", \"category\": \"new\", \"size\": 21, \"quality\": 5, \"user_name\": \"alexmeyer626\", \"length\": \"just right\", \"fit\": \"fit\", \"cup size\": \"dd/e\", \"user_id\": \"875643\"}\r\n"
          ]
        }
      ]
    },
    {
      "metadata": {
        "_uuid": "087af58a4c546acd6c52d9ec5b0dbf3f95cb0f23",
        "id": "ItJR4n7GXLoP"
      },
      "cell_type": "markdown",
      "source": [
        "Using the pd.read_json() function the json file is brought into a pandas DataFrame, with the *lines* parameter as *True*- because every new object is separated by a new line. "
      ]
    },
    {
      "metadata": {
        "trusted": true,
        "_uuid": "2178520ea77364cb4faedefca9acba4ee659cc1a",
        "_kg_hide-input": true,
        "colab": {
          "base_uri": "https://localhost:8080/",
          "height": 302
        },
        "id": "Q7VVKyJSXLoP",
        "outputId": "6f2cd2cd-3d41-4058-8f9d-7423c325c5fb"
      },
      "cell_type": "code",
      "source": [
        "mc_df = pd.read_json('/content/gdrive/My Drive/Shared_Data/modcloth_final_data.json', lines=True)\n",
        "mc_df.head()"
      ],
      "execution_count": null,
      "outputs": [
        {
          "output_type": "execute_result",
          "data": {
            "text/plain": [
              "   item_id  waist  size  quality cup size  hips  bra size category bust  \\\n",
              "0   123373   29.0     7      5.0        d  38.0      34.0      new   36   \n",
              "1   123373   31.0    13      3.0        b  30.0      36.0      new  NaN   \n",
              "2   123373   30.0     7      2.0        b   NaN      32.0      new  NaN   \n",
              "3   123373    NaN    21      5.0     dd/e   NaN       NaN      new  NaN   \n",
              "4   123373    NaN    18      5.0        b   NaN      36.0      new  NaN   \n",
              "\n",
              "    height         user_name         length    fit  user_id  shoe size  \\\n",
              "0  5ft 6in             Emily     just right  small   991571        NaN   \n",
              "1  5ft 2in  sydneybraden2001     just right  small   587883        NaN   \n",
              "2  5ft 7in             Ugggh  slightly long  small   395665        9.0   \n",
              "3      NaN      alexmeyer626     just right    fit   875643        NaN   \n",
              "4  5ft 2in        dberrones1  slightly long  small   944840        NaN   \n",
              "\n",
              "  shoe width review_summary review_text  \n",
              "0        NaN            NaN         NaN  \n",
              "1        NaN            NaN         NaN  \n",
              "2        NaN            NaN         NaN  \n",
              "3        NaN            NaN         NaN  \n",
              "4        NaN            NaN         NaN  "
            ],
            "text/html": [
              "\n",
              "  <div id=\"df-fa946276-7655-457c-b5ee-e2b580882d80\">\n",
              "    <div class=\"colab-df-container\">\n",
              "      <div>\n",
              "<style scoped>\n",
              "    .dataframe tbody tr th:only-of-type {\n",
              "        vertical-align: middle;\n",
              "    }\n",
              "\n",
              "    .dataframe tbody tr th {\n",
              "        vertical-align: top;\n",
              "    }\n",
              "\n",
              "    .dataframe thead th {\n",
              "        text-align: right;\n",
              "    }\n",
              "</style>\n",
              "<table border=\"1\" class=\"dataframe\">\n",
              "  <thead>\n",
              "    <tr style=\"text-align: right;\">\n",
              "      <th></th>\n",
              "      <th>item_id</th>\n",
              "      <th>waist</th>\n",
              "      <th>size</th>\n",
              "      <th>quality</th>\n",
              "      <th>cup size</th>\n",
              "      <th>hips</th>\n",
              "      <th>bra size</th>\n",
              "      <th>category</th>\n",
              "      <th>bust</th>\n",
              "      <th>height</th>\n",
              "      <th>user_name</th>\n",
              "      <th>length</th>\n",
              "      <th>fit</th>\n",
              "      <th>user_id</th>\n",
              "      <th>shoe size</th>\n",
              "      <th>shoe width</th>\n",
              "      <th>review_summary</th>\n",
              "      <th>review_text</th>\n",
              "    </tr>\n",
              "  </thead>\n",
              "  <tbody>\n",
              "    <tr>\n",
              "      <th>0</th>\n",
              "      <td>123373</td>\n",
              "      <td>29.0</td>\n",
              "      <td>7</td>\n",
              "      <td>5.0</td>\n",
              "      <td>d</td>\n",
              "      <td>38.0</td>\n",
              "      <td>34.0</td>\n",
              "      <td>new</td>\n",
              "      <td>36</td>\n",
              "      <td>5ft 6in</td>\n",
              "      <td>Emily</td>\n",
              "      <td>just right</td>\n",
              "      <td>small</td>\n",
              "      <td>991571</td>\n",
              "      <td>NaN</td>\n",
              "      <td>NaN</td>\n",
              "      <td>NaN</td>\n",
              "      <td>NaN</td>\n",
              "    </tr>\n",
              "    <tr>\n",
              "      <th>1</th>\n",
              "      <td>123373</td>\n",
              "      <td>31.0</td>\n",
              "      <td>13</td>\n",
              "      <td>3.0</td>\n",
              "      <td>b</td>\n",
              "      <td>30.0</td>\n",
              "      <td>36.0</td>\n",
              "      <td>new</td>\n",
              "      <td>NaN</td>\n",
              "      <td>5ft 2in</td>\n",
              "      <td>sydneybraden2001</td>\n",
              "      <td>just right</td>\n",
              "      <td>small</td>\n",
              "      <td>587883</td>\n",
              "      <td>NaN</td>\n",
              "      <td>NaN</td>\n",
              "      <td>NaN</td>\n",
              "      <td>NaN</td>\n",
              "    </tr>\n",
              "    <tr>\n",
              "      <th>2</th>\n",
              "      <td>123373</td>\n",
              "      <td>30.0</td>\n",
              "      <td>7</td>\n",
              "      <td>2.0</td>\n",
              "      <td>b</td>\n",
              "      <td>NaN</td>\n",
              "      <td>32.0</td>\n",
              "      <td>new</td>\n",
              "      <td>NaN</td>\n",
              "      <td>5ft 7in</td>\n",
              "      <td>Ugggh</td>\n",
              "      <td>slightly long</td>\n",
              "      <td>small</td>\n",
              "      <td>395665</td>\n",
              "      <td>9.0</td>\n",
              "      <td>NaN</td>\n",
              "      <td>NaN</td>\n",
              "      <td>NaN</td>\n",
              "    </tr>\n",
              "    <tr>\n",
              "      <th>3</th>\n",
              "      <td>123373</td>\n",
              "      <td>NaN</td>\n",
              "      <td>21</td>\n",
              "      <td>5.0</td>\n",
              "      <td>dd/e</td>\n",
              "      <td>NaN</td>\n",
              "      <td>NaN</td>\n",
              "      <td>new</td>\n",
              "      <td>NaN</td>\n",
              "      <td>NaN</td>\n",
              "      <td>alexmeyer626</td>\n",
              "      <td>just right</td>\n",
              "      <td>fit</td>\n",
              "      <td>875643</td>\n",
              "      <td>NaN</td>\n",
              "      <td>NaN</td>\n",
              "      <td>NaN</td>\n",
              "      <td>NaN</td>\n",
              "    </tr>\n",
              "    <tr>\n",
              "      <th>4</th>\n",
              "      <td>123373</td>\n",
              "      <td>NaN</td>\n",
              "      <td>18</td>\n",
              "      <td>5.0</td>\n",
              "      <td>b</td>\n",
              "      <td>NaN</td>\n",
              "      <td>36.0</td>\n",
              "      <td>new</td>\n",
              "      <td>NaN</td>\n",
              "      <td>5ft 2in</td>\n",
              "      <td>dberrones1</td>\n",
              "      <td>slightly long</td>\n",
              "      <td>small</td>\n",
              "      <td>944840</td>\n",
              "      <td>NaN</td>\n",
              "      <td>NaN</td>\n",
              "      <td>NaN</td>\n",
              "      <td>NaN</td>\n",
              "    </tr>\n",
              "  </tbody>\n",
              "</table>\n",
              "</div>\n",
              "      <button class=\"colab-df-convert\" onclick=\"convertToInteractive('df-fa946276-7655-457c-b5ee-e2b580882d80')\"\n",
              "              title=\"Convert this dataframe to an interactive table.\"\n",
              "              style=\"display:none;\">\n",
              "        \n",
              "  <svg xmlns=\"http://www.w3.org/2000/svg\" height=\"24px\"viewBox=\"0 0 24 24\"\n",
              "       width=\"24px\">\n",
              "    <path d=\"M0 0h24v24H0V0z\" fill=\"none\"/>\n",
              "    <path d=\"M18.56 5.44l.94 2.06.94-2.06 2.06-.94-2.06-.94-.94-2.06-.94 2.06-2.06.94zm-11 1L8.5 8.5l.94-2.06 2.06-.94-2.06-.94L8.5 2.5l-.94 2.06-2.06.94zm10 10l.94 2.06.94-2.06 2.06-.94-2.06-.94-.94-2.06-.94 2.06-2.06.94z\"/><path d=\"M17.41 7.96l-1.37-1.37c-.4-.4-.92-.59-1.43-.59-.52 0-1.04.2-1.43.59L10.3 9.45l-7.72 7.72c-.78.78-.78 2.05 0 2.83L4 21.41c.39.39.9.59 1.41.59.51 0 1.02-.2 1.41-.59l7.78-7.78 2.81-2.81c.8-.78.8-2.07 0-2.86zM5.41 20L4 18.59l7.72-7.72 1.47 1.35L5.41 20z\"/>\n",
              "  </svg>\n",
              "      </button>\n",
              "      \n",
              "  <style>\n",
              "    .colab-df-container {\n",
              "      display:flex;\n",
              "      flex-wrap:wrap;\n",
              "      gap: 12px;\n",
              "    }\n",
              "\n",
              "    .colab-df-convert {\n",
              "      background-color: #E8F0FE;\n",
              "      border: none;\n",
              "      border-radius: 50%;\n",
              "      cursor: pointer;\n",
              "      display: none;\n",
              "      fill: #1967D2;\n",
              "      height: 32px;\n",
              "      padding: 0 0 0 0;\n",
              "      width: 32px;\n",
              "    }\n",
              "\n",
              "    .colab-df-convert:hover {\n",
              "      background-color: #E2EBFA;\n",
              "      box-shadow: 0px 1px 2px rgba(60, 64, 67, 0.3), 0px 1px 3px 1px rgba(60, 64, 67, 0.15);\n",
              "      fill: #174EA6;\n",
              "    }\n",
              "\n",
              "    [theme=dark] .colab-df-convert {\n",
              "      background-color: #3B4455;\n",
              "      fill: #D2E3FC;\n",
              "    }\n",
              "\n",
              "    [theme=dark] .colab-df-convert:hover {\n",
              "      background-color: #434B5C;\n",
              "      box-shadow: 0px 1px 3px 1px rgba(0, 0, 0, 0.15);\n",
              "      filter: drop-shadow(0px 1px 2px rgba(0, 0, 0, 0.3));\n",
              "      fill: #FFFFFF;\n",
              "    }\n",
              "  </style>\n",
              "\n",
              "      <script>\n",
              "        const buttonEl =\n",
              "          document.querySelector('#df-fa946276-7655-457c-b5ee-e2b580882d80 button.colab-df-convert');\n",
              "        buttonEl.style.display =\n",
              "          google.colab.kernel.accessAllowed ? 'block' : 'none';\n",
              "\n",
              "        async function convertToInteractive(key) {\n",
              "          const element = document.querySelector('#df-fa946276-7655-457c-b5ee-e2b580882d80');\n",
              "          const dataTable =\n",
              "            await google.colab.kernel.invokeFunction('convertToInteractive',\n",
              "                                                     [key], {});\n",
              "          if (!dataTable) return;\n",
              "\n",
              "          const docLinkHtml = 'Like what you see? Visit the ' +\n",
              "            '<a target=\"_blank\" href=https://colab.research.google.com/notebooks/data_table.ipynb>data table notebook</a>'\n",
              "            + ' to learn more about interactive tables.';\n",
              "          element.innerHTML = '';\n",
              "          dataTable['output_type'] = 'display_data';\n",
              "          await google.colab.output.renderOutput(dataTable, element);\n",
              "          const docLink = document.createElement('div');\n",
              "          docLink.innerHTML = docLinkHtml;\n",
              "          element.appendChild(docLink);\n",
              "        }\n",
              "      </script>\n",
              "    </div>\n",
              "  </div>\n",
              "  "
            ]
          },
          "metadata": {},
          "execution_count": 7
        }
      ]
    },
    {
      "metadata": {
        "_uuid": "8c2f1fbfc72d21e57693d431a0b91f277d4f9e46",
        "id": "qdPwkdlEXLoQ"
      },
      "cell_type": "markdown",
      "source": [
        "<a id=\"4\"></a>\n",
        "# EDA - Exploratory Data Analysis\n",
        "\n",
        "We can already make few observations here, by looking at the head of the data:\n",
        "1. There are missing values across the dataframe, which need to be handled.\n",
        "2. Cup-size contains multiple preferences- which will need handling, if we wish to define cup sizes as 'category' datatype.\n",
        "3. Height column needs to be parsed for extracting the height in a numerical quantity, it looks like a string (object) right now.\n",
        "4. Not so important, but some columns could do with some renaming- for removing spaces.\n",
        "\n",
        "Firstly, we handle the naming of columns for ease-of-access in pandas."
      ]
    },
    {
      "metadata": {
        "trusted": true,
        "_uuid": "24b27107a376a90044818b4cfb55e20b45b08b34",
        "_kg_hide-input": true,
        "_kg_hide-output": true,
        "colab": {
          "base_uri": "https://localhost:8080/"
        },
        "id": "L1_msAgWXLoQ",
        "outputId": "59cedeca-2435-4230-84a5-be6849c103ed"
      },
      "cell_type": "code",
      "source": [
        "mc_df.columns"
      ],
      "execution_count": null,
      "outputs": [
        {
          "output_type": "execute_result",
          "data": {
            "text/plain": [
              "Index(['item_id', 'waist', 'size', 'quality', 'cup size', 'hips', 'bra size',\n",
              "       'category', 'bust', 'height', 'user_name', 'length', 'fit', 'user_id',\n",
              "       'shoe size', 'shoe width', 'review_summary', 'review_text'],\n",
              "      dtype='object')"
            ]
          },
          "metadata": {},
          "execution_count": 8
        }
      ]
    },
    {
      "metadata": {
        "trusted": true,
        "_uuid": "2eb7d925650a29cfd0541a5c2038163d4cda4bf9",
        "_kg_hide-input": true,
        "id": "zChNJy1EXLoR"
      },
      "cell_type": "code",
      "source": [
        "mc_df.columns = ['bra_size', 'bust', 'category', 'cup_size', 'fit', 'height', 'hips',\n",
        "       'item_id', 'length', 'quality', 'review_summary', 'review_text',\n",
        "       'shoe_size', 'shoe_width', 'size', 'user_id', 'user_name', 'waist']"
      ],
      "execution_count": null,
      "outputs": []
    },
    {
      "metadata": {
        "trusted": true,
        "_uuid": "d7ddb93e533e9dc8b72935be347fef34a443edbd",
        "_kg_hide-output": true,
        "colab": {
          "base_uri": "https://localhost:8080/"
        },
        "id": "Qdf-taeGXLoS",
        "outputId": "22dc0394-1694-4248-ba3f-a728123c3f91"
      },
      "cell_type": "code",
      "source": [
        "mc_df.info()"
      ],
      "execution_count": null,
      "outputs": [
        {
          "output_type": "stream",
          "name": "stdout",
          "text": [
            "<class 'pandas.core.frame.DataFrame'>\n",
            "RangeIndex: 82790 entries, 0 to 82789\n",
            "Data columns (total 18 columns):\n",
            " #   Column          Non-Null Count  Dtype  \n",
            "---  ------          --------------  -----  \n",
            " 0   bra_size        82790 non-null  int64  \n",
            " 1   bust            2882 non-null   float64\n",
            " 2   category        82790 non-null  int64  \n",
            " 3   cup_size        82722 non-null  float64\n",
            " 4   fit             76535 non-null  object \n",
            " 5   height          56064 non-null  float64\n",
            " 6   hips            76772 non-null  float64\n",
            " 7   item_id         82790 non-null  object \n",
            " 8   length          11854 non-null  object \n",
            " 9   quality         81683 non-null  object \n",
            " 10  review_summary  82790 non-null  object \n",
            " 11  review_text     82755 non-null  object \n",
            " 12  shoe_size       82790 non-null  object \n",
            " 13  shoe_width      82790 non-null  int64  \n",
            " 14  size            27915 non-null  float64\n",
            " 15  user_id         18607 non-null  object \n",
            " 16  user_name       76065 non-null  object \n",
            " 17  waist           76065 non-null  object \n",
            "dtypes: float64(5), int64(3), object(10)\n",
            "memory usage: 11.4+ MB\n"
          ]
        }
      ]
    },
    {
      "metadata": {
        "_uuid": "72958fa8d1073677cab16e0c0ff4dd5c73408269",
        "id": "CG9-s_dEXLoS"
      },
      "cell_type": "markdown",
      "source": [
        "We can extend our observations on missing data and the datatypes here:\n",
        "* Out of 18 columns, only 6 columns have complete data.\n",
        "* Quite a lot of data seems to be missing in bust, shoe width, shoe size and waist.\n",
        "* We might want to especially look at the items which **have** shoe size and shoe width available- these could possibly be shoes!\n",
        "* Alot of the columns have strings (object datatype), which needs to be parsed into the category datatype (aids in efficient memory consumption as well). \n",
        "* *Waist* column surprisingly has a lot of NULL values- considering most of the data from Modcloth comes from the 3 categories of 'dresses, tops and bottoms'.\n",
        "\n",
        "### Looking at the percentage of missing values per column"
      ]
    },
    {
      "metadata": {
        "trusted": true,
        "_uuid": "2f8943057ad36703c03578d3230032e9126166af",
        "_kg_hide-input": true,
        "colab": {
          "base_uri": "https://localhost:8080/",
          "height": 614
        },
        "id": "7_OW3S3QXLoS",
        "outputId": "893502ea-d473-41da-b828-ec993e3aeebf"
      },
      "cell_type": "code",
      "source": [
        "missing_data = pd.DataFrame({'total_missing': mc_df.isnull().sum(), 'perc_missing': (mc_df.isnull().sum()/82790)*100})\n",
        "missing_data"
      ],
      "execution_count": null,
      "outputs": [
        {
          "output_type": "execute_result",
          "data": {
            "text/plain": [
              "                total_missing  perc_missing\n",
              "bra_size                    0      0.000000\n",
              "bust                    79908     96.518903\n",
              "category                    0      0.000000\n",
              "cup_size                   68      0.082136\n",
              "fit                      6255      7.555260\n",
              "height                  26726     32.281677\n",
              "hips                     6018      7.268994\n",
              "item_id                     0      0.000000\n",
              "length                  70936     85.681846\n",
              "quality                  1107      1.337118\n",
              "review_summary              0      0.000000\n",
              "review_text                35      0.042276\n",
              "shoe_size                   0      0.000000\n",
              "shoe_width                  0      0.000000\n",
              "size                    54875     66.282160\n",
              "user_id                 64183     77.525063\n",
              "user_name                6725      8.122962\n",
              "waist                    6725      8.122962"
            ],
            "text/html": [
              "\n",
              "  <div id=\"df-aa140ec0-5e67-4d1b-be2e-b80504056376\">\n",
              "    <div class=\"colab-df-container\">\n",
              "      <div>\n",
              "<style scoped>\n",
              "    .dataframe tbody tr th:only-of-type {\n",
              "        vertical-align: middle;\n",
              "    }\n",
              "\n",
              "    .dataframe tbody tr th {\n",
              "        vertical-align: top;\n",
              "    }\n",
              "\n",
              "    .dataframe thead th {\n",
              "        text-align: right;\n",
              "    }\n",
              "</style>\n",
              "<table border=\"1\" class=\"dataframe\">\n",
              "  <thead>\n",
              "    <tr style=\"text-align: right;\">\n",
              "      <th></th>\n",
              "      <th>total_missing</th>\n",
              "      <th>perc_missing</th>\n",
              "    </tr>\n",
              "  </thead>\n",
              "  <tbody>\n",
              "    <tr>\n",
              "      <th>bra_size</th>\n",
              "      <td>0</td>\n",
              "      <td>0.000000</td>\n",
              "    </tr>\n",
              "    <tr>\n",
              "      <th>bust</th>\n",
              "      <td>79908</td>\n",
              "      <td>96.518903</td>\n",
              "    </tr>\n",
              "    <tr>\n",
              "      <th>category</th>\n",
              "      <td>0</td>\n",
              "      <td>0.000000</td>\n",
              "    </tr>\n",
              "    <tr>\n",
              "      <th>cup_size</th>\n",
              "      <td>68</td>\n",
              "      <td>0.082136</td>\n",
              "    </tr>\n",
              "    <tr>\n",
              "      <th>fit</th>\n",
              "      <td>6255</td>\n",
              "      <td>7.555260</td>\n",
              "    </tr>\n",
              "    <tr>\n",
              "      <th>height</th>\n",
              "      <td>26726</td>\n",
              "      <td>32.281677</td>\n",
              "    </tr>\n",
              "    <tr>\n",
              "      <th>hips</th>\n",
              "      <td>6018</td>\n",
              "      <td>7.268994</td>\n",
              "    </tr>\n",
              "    <tr>\n",
              "      <th>item_id</th>\n",
              "      <td>0</td>\n",
              "      <td>0.000000</td>\n",
              "    </tr>\n",
              "    <tr>\n",
              "      <th>length</th>\n",
              "      <td>70936</td>\n",
              "      <td>85.681846</td>\n",
              "    </tr>\n",
              "    <tr>\n",
              "      <th>quality</th>\n",
              "      <td>1107</td>\n",
              "      <td>1.337118</td>\n",
              "    </tr>\n",
              "    <tr>\n",
              "      <th>review_summary</th>\n",
              "      <td>0</td>\n",
              "      <td>0.000000</td>\n",
              "    </tr>\n",
              "    <tr>\n",
              "      <th>review_text</th>\n",
              "      <td>35</td>\n",
              "      <td>0.042276</td>\n",
              "    </tr>\n",
              "    <tr>\n",
              "      <th>shoe_size</th>\n",
              "      <td>0</td>\n",
              "      <td>0.000000</td>\n",
              "    </tr>\n",
              "    <tr>\n",
              "      <th>shoe_width</th>\n",
              "      <td>0</td>\n",
              "      <td>0.000000</td>\n",
              "    </tr>\n",
              "    <tr>\n",
              "      <th>size</th>\n",
              "      <td>54875</td>\n",
              "      <td>66.282160</td>\n",
              "    </tr>\n",
              "    <tr>\n",
              "      <th>user_id</th>\n",
              "      <td>64183</td>\n",
              "      <td>77.525063</td>\n",
              "    </tr>\n",
              "    <tr>\n",
              "      <th>user_name</th>\n",
              "      <td>6725</td>\n",
              "      <td>8.122962</td>\n",
              "    </tr>\n",
              "    <tr>\n",
              "      <th>waist</th>\n",
              "      <td>6725</td>\n",
              "      <td>8.122962</td>\n",
              "    </tr>\n",
              "  </tbody>\n",
              "</table>\n",
              "</div>\n",
              "      <button class=\"colab-df-convert\" onclick=\"convertToInteractive('df-aa140ec0-5e67-4d1b-be2e-b80504056376')\"\n",
              "              title=\"Convert this dataframe to an interactive table.\"\n",
              "              style=\"display:none;\">\n",
              "        \n",
              "  <svg xmlns=\"http://www.w3.org/2000/svg\" height=\"24px\"viewBox=\"0 0 24 24\"\n",
              "       width=\"24px\">\n",
              "    <path d=\"M0 0h24v24H0V0z\" fill=\"none\"/>\n",
              "    <path d=\"M18.56 5.44l.94 2.06.94-2.06 2.06-.94-2.06-.94-.94-2.06-.94 2.06-2.06.94zm-11 1L8.5 8.5l.94-2.06 2.06-.94-2.06-.94L8.5 2.5l-.94 2.06-2.06.94zm10 10l.94 2.06.94-2.06 2.06-.94-2.06-.94-.94-2.06-.94 2.06-2.06.94z\"/><path d=\"M17.41 7.96l-1.37-1.37c-.4-.4-.92-.59-1.43-.59-.52 0-1.04.2-1.43.59L10.3 9.45l-7.72 7.72c-.78.78-.78 2.05 0 2.83L4 21.41c.39.39.9.59 1.41.59.51 0 1.02-.2 1.41-.59l7.78-7.78 2.81-2.81c.8-.78.8-2.07 0-2.86zM5.41 20L4 18.59l7.72-7.72 1.47 1.35L5.41 20z\"/>\n",
              "  </svg>\n",
              "      </button>\n",
              "      \n",
              "  <style>\n",
              "    .colab-df-container {\n",
              "      display:flex;\n",
              "      flex-wrap:wrap;\n",
              "      gap: 12px;\n",
              "    }\n",
              "\n",
              "    .colab-df-convert {\n",
              "      background-color: #E8F0FE;\n",
              "      border: none;\n",
              "      border-radius: 50%;\n",
              "      cursor: pointer;\n",
              "      display: none;\n",
              "      fill: #1967D2;\n",
              "      height: 32px;\n",
              "      padding: 0 0 0 0;\n",
              "      width: 32px;\n",
              "    }\n",
              "\n",
              "    .colab-df-convert:hover {\n",
              "      background-color: #E2EBFA;\n",
              "      box-shadow: 0px 1px 2px rgba(60, 64, 67, 0.3), 0px 1px 3px 1px rgba(60, 64, 67, 0.15);\n",
              "      fill: #174EA6;\n",
              "    }\n",
              "\n",
              "    [theme=dark] .colab-df-convert {\n",
              "      background-color: #3B4455;\n",
              "      fill: #D2E3FC;\n",
              "    }\n",
              "\n",
              "    [theme=dark] .colab-df-convert:hover {\n",
              "      background-color: #434B5C;\n",
              "      box-shadow: 0px 1px 3px 1px rgba(0, 0, 0, 0.15);\n",
              "      filter: drop-shadow(0px 1px 2px rgba(0, 0, 0, 0.3));\n",
              "      fill: #FFFFFF;\n",
              "    }\n",
              "  </style>\n",
              "\n",
              "      <script>\n",
              "        const buttonEl =\n",
              "          document.querySelector('#df-aa140ec0-5e67-4d1b-be2e-b80504056376 button.colab-df-convert');\n",
              "        buttonEl.style.display =\n",
              "          google.colab.kernel.accessAllowed ? 'block' : 'none';\n",
              "\n",
              "        async function convertToInteractive(key) {\n",
              "          const element = document.querySelector('#df-aa140ec0-5e67-4d1b-be2e-b80504056376');\n",
              "          const dataTable =\n",
              "            await google.colab.kernel.invokeFunction('convertToInteractive',\n",
              "                                                     [key], {});\n",
              "          if (!dataTable) return;\n",
              "\n",
              "          const docLinkHtml = 'Like what you see? Visit the ' +\n",
              "            '<a target=\"_blank\" href=https://colab.research.google.com/notebooks/data_table.ipynb>data table notebook</a>'\n",
              "            + ' to learn more about interactive tables.';\n",
              "          element.innerHTML = '';\n",
              "          dataTable['output_type'] = 'display_data';\n",
              "          await google.colab.output.renderOutput(dataTable, element);\n",
              "          const docLink = document.createElement('div');\n",
              "          docLink.innerHTML = docLinkHtml;\n",
              "          element.appendChild(docLink);\n",
              "        }\n",
              "      </script>\n",
              "    </div>\n",
              "  </div>\n",
              "  "
            ]
          },
          "metadata": {},
          "execution_count": 11
        }
      ]
    },
    {
      "metadata": {
        "_uuid": "6007512cb980547f2930af9093e6d570fede7841",
        "id": "vvIcjkRMXLoT"
      },
      "cell_type": "markdown",
      "source": [
        "### Statistical description of numerical variables"
      ]
    },
    {
      "metadata": {
        "trusted": true,
        "_uuid": "508e99930c3b1ecb429e8501e514a346e65d84ff",
        "_kg_hide-input": true,
        "colab": {
          "base_uri": "https://localhost:8080/",
          "height": 300
        },
        "id": "ytAmCNTYXLoT",
        "outputId": "eca83eee-67b4-4612-ea4f-d619457a4b7f"
      },
      "cell_type": "code",
      "source": [
        "mc_df.describe()"
      ],
      "execution_count": null,
      "outputs": [
        {
          "output_type": "execute_result",
          "data": {
            "text/plain": [
              "            bra_size         bust      category      cup_size        height  \\\n",
              "count   82790.000000  2882.000000  82790.000000  82722.000000  56064.000000   \n",
              "mean   469325.229170    31.319223     12.661602      3.949058     40.358501   \n",
              "std    213999.803314     5.302849      8.271952      0.992783      5.827166   \n",
              "min    123373.000000    20.000000      0.000000      1.000000     30.000000   \n",
              "25%    314980.000000    28.000000      8.000000      3.000000     36.000000   \n",
              "50%    454030.000000    30.000000     12.000000      4.000000     39.000000   \n",
              "75%    658440.000000    34.000000     15.000000      5.000000     43.000000   \n",
              "max    807722.000000    50.000000     38.000000      5.000000     60.000000   \n",
              "\n",
              "               hips     shoe_width          size  \n",
              "count  76772.000000   82790.000000  27915.000000  \n",
              "mean      35.972125  498849.564718      8.145818  \n",
              "std        3.224907  286356.969459      1.336109  \n",
              "min       28.000000       6.000000      5.000000  \n",
              "25%       34.000000  252897.750000      7.000000  \n",
              "50%       36.000000  497913.500000      8.000000  \n",
              "75%       38.000000  744745.250000      9.000000  \n",
              "max       48.000000  999972.000000     38.000000  "
            ],
            "text/html": [
              "\n",
              "  <div id=\"df-8dec316d-42b9-4c0d-b1eb-e258d0526cc9\">\n",
              "    <div class=\"colab-df-container\">\n",
              "      <div>\n",
              "<style scoped>\n",
              "    .dataframe tbody tr th:only-of-type {\n",
              "        vertical-align: middle;\n",
              "    }\n",
              "\n",
              "    .dataframe tbody tr th {\n",
              "        vertical-align: top;\n",
              "    }\n",
              "\n",
              "    .dataframe thead th {\n",
              "        text-align: right;\n",
              "    }\n",
              "</style>\n",
              "<table border=\"1\" class=\"dataframe\">\n",
              "  <thead>\n",
              "    <tr style=\"text-align: right;\">\n",
              "      <th></th>\n",
              "      <th>bra_size</th>\n",
              "      <th>bust</th>\n",
              "      <th>category</th>\n",
              "      <th>cup_size</th>\n",
              "      <th>height</th>\n",
              "      <th>hips</th>\n",
              "      <th>shoe_width</th>\n",
              "      <th>size</th>\n",
              "    </tr>\n",
              "  </thead>\n",
              "  <tbody>\n",
              "    <tr>\n",
              "      <th>count</th>\n",
              "      <td>82790.000000</td>\n",
              "      <td>2882.000000</td>\n",
              "      <td>82790.000000</td>\n",
              "      <td>82722.000000</td>\n",
              "      <td>56064.000000</td>\n",
              "      <td>76772.000000</td>\n",
              "      <td>82790.000000</td>\n",
              "      <td>27915.000000</td>\n",
              "    </tr>\n",
              "    <tr>\n",
              "      <th>mean</th>\n",
              "      <td>469325.229170</td>\n",
              "      <td>31.319223</td>\n",
              "      <td>12.661602</td>\n",
              "      <td>3.949058</td>\n",
              "      <td>40.358501</td>\n",
              "      <td>35.972125</td>\n",
              "      <td>498849.564718</td>\n",
              "      <td>8.145818</td>\n",
              "    </tr>\n",
              "    <tr>\n",
              "      <th>std</th>\n",
              "      <td>213999.803314</td>\n",
              "      <td>5.302849</td>\n",
              "      <td>8.271952</td>\n",
              "      <td>0.992783</td>\n",
              "      <td>5.827166</td>\n",
              "      <td>3.224907</td>\n",
              "      <td>286356.969459</td>\n",
              "      <td>1.336109</td>\n",
              "    </tr>\n",
              "    <tr>\n",
              "      <th>min</th>\n",
              "      <td>123373.000000</td>\n",
              "      <td>20.000000</td>\n",
              "      <td>0.000000</td>\n",
              "      <td>1.000000</td>\n",
              "      <td>30.000000</td>\n",
              "      <td>28.000000</td>\n",
              "      <td>6.000000</td>\n",
              "      <td>5.000000</td>\n",
              "    </tr>\n",
              "    <tr>\n",
              "      <th>25%</th>\n",
              "      <td>314980.000000</td>\n",
              "      <td>28.000000</td>\n",
              "      <td>8.000000</td>\n",
              "      <td>3.000000</td>\n",
              "      <td>36.000000</td>\n",
              "      <td>34.000000</td>\n",
              "      <td>252897.750000</td>\n",
              "      <td>7.000000</td>\n",
              "    </tr>\n",
              "    <tr>\n",
              "      <th>50%</th>\n",
              "      <td>454030.000000</td>\n",
              "      <td>30.000000</td>\n",
              "      <td>12.000000</td>\n",
              "      <td>4.000000</td>\n",
              "      <td>39.000000</td>\n",
              "      <td>36.000000</td>\n",
              "      <td>497913.500000</td>\n",
              "      <td>8.000000</td>\n",
              "    </tr>\n",
              "    <tr>\n",
              "      <th>75%</th>\n",
              "      <td>658440.000000</td>\n",
              "      <td>34.000000</td>\n",
              "      <td>15.000000</td>\n",
              "      <td>5.000000</td>\n",
              "      <td>43.000000</td>\n",
              "      <td>38.000000</td>\n",
              "      <td>744745.250000</td>\n",
              "      <td>9.000000</td>\n",
              "    </tr>\n",
              "    <tr>\n",
              "      <th>max</th>\n",
              "      <td>807722.000000</td>\n",
              "      <td>50.000000</td>\n",
              "      <td>38.000000</td>\n",
              "      <td>5.000000</td>\n",
              "      <td>60.000000</td>\n",
              "      <td>48.000000</td>\n",
              "      <td>999972.000000</td>\n",
              "      <td>38.000000</td>\n",
              "    </tr>\n",
              "  </tbody>\n",
              "</table>\n",
              "</div>\n",
              "      <button class=\"colab-df-convert\" onclick=\"convertToInteractive('df-8dec316d-42b9-4c0d-b1eb-e258d0526cc9')\"\n",
              "              title=\"Convert this dataframe to an interactive table.\"\n",
              "              style=\"display:none;\">\n",
              "        \n",
              "  <svg xmlns=\"http://www.w3.org/2000/svg\" height=\"24px\"viewBox=\"0 0 24 24\"\n",
              "       width=\"24px\">\n",
              "    <path d=\"M0 0h24v24H0V0z\" fill=\"none\"/>\n",
              "    <path d=\"M18.56 5.44l.94 2.06.94-2.06 2.06-.94-2.06-.94-.94-2.06-.94 2.06-2.06.94zm-11 1L8.5 8.5l.94-2.06 2.06-.94-2.06-.94L8.5 2.5l-.94 2.06-2.06.94zm10 10l.94 2.06.94-2.06 2.06-.94-2.06-.94-.94-2.06-.94 2.06-2.06.94z\"/><path d=\"M17.41 7.96l-1.37-1.37c-.4-.4-.92-.59-1.43-.59-.52 0-1.04.2-1.43.59L10.3 9.45l-7.72 7.72c-.78.78-.78 2.05 0 2.83L4 21.41c.39.39.9.59 1.41.59.51 0 1.02-.2 1.41-.59l7.78-7.78 2.81-2.81c.8-.78.8-2.07 0-2.86zM5.41 20L4 18.59l7.72-7.72 1.47 1.35L5.41 20z\"/>\n",
              "  </svg>\n",
              "      </button>\n",
              "      \n",
              "  <style>\n",
              "    .colab-df-container {\n",
              "      display:flex;\n",
              "      flex-wrap:wrap;\n",
              "      gap: 12px;\n",
              "    }\n",
              "\n",
              "    .colab-df-convert {\n",
              "      background-color: #E8F0FE;\n",
              "      border: none;\n",
              "      border-radius: 50%;\n",
              "      cursor: pointer;\n",
              "      display: none;\n",
              "      fill: #1967D2;\n",
              "      height: 32px;\n",
              "      padding: 0 0 0 0;\n",
              "      width: 32px;\n",
              "    }\n",
              "\n",
              "    .colab-df-convert:hover {\n",
              "      background-color: #E2EBFA;\n",
              "      box-shadow: 0px 1px 2px rgba(60, 64, 67, 0.3), 0px 1px 3px 1px rgba(60, 64, 67, 0.15);\n",
              "      fill: #174EA6;\n",
              "    }\n",
              "\n",
              "    [theme=dark] .colab-df-convert {\n",
              "      background-color: #3B4455;\n",
              "      fill: #D2E3FC;\n",
              "    }\n",
              "\n",
              "    [theme=dark] .colab-df-convert:hover {\n",
              "      background-color: #434B5C;\n",
              "      box-shadow: 0px 1px 3px 1px rgba(0, 0, 0, 0.15);\n",
              "      filter: drop-shadow(0px 1px 2px rgba(0, 0, 0, 0.3));\n",
              "      fill: #FFFFFF;\n",
              "    }\n",
              "  </style>\n",
              "\n",
              "      <script>\n",
              "        const buttonEl =\n",
              "          document.querySelector('#df-8dec316d-42b9-4c0d-b1eb-e258d0526cc9 button.colab-df-convert');\n",
              "        buttonEl.style.display =\n",
              "          google.colab.kernel.accessAllowed ? 'block' : 'none';\n",
              "\n",
              "        async function convertToInteractive(key) {\n",
              "          const element = document.querySelector('#df-8dec316d-42b9-4c0d-b1eb-e258d0526cc9');\n",
              "          const dataTable =\n",
              "            await google.colab.kernel.invokeFunction('convertToInteractive',\n",
              "                                                     [key], {});\n",
              "          if (!dataTable) return;\n",
              "\n",
              "          const docLinkHtml = 'Like what you see? Visit the ' +\n",
              "            '<a target=\"_blank\" href=https://colab.research.google.com/notebooks/data_table.ipynb>data table notebook</a>'\n",
              "            + ' to learn more about interactive tables.';\n",
              "          element.innerHTML = '';\n",
              "          dataTable['output_type'] = 'display_data';\n",
              "          await google.colab.output.renderOutput(dataTable, element);\n",
              "          const docLink = document.createElement('div');\n",
              "          docLink.innerHTML = docLinkHtml;\n",
              "          element.appendChild(docLink);\n",
              "        }\n",
              "      </script>\n",
              "    </div>\n",
              "  </div>\n",
              "  "
            ]
          },
          "metadata": {},
          "execution_count": 12
        }
      ]
    },
    {
      "metadata": {
        "_uuid": "a96fec79cea18def7c1f2dfdd9b9d9aafc51b8bb",
        "id": "FUykkjLEXLoT"
      },
      "cell_type": "markdown",
      "source": [
        "Some more important observations here, before we dive into performing the pre-processing tasks onto our data:\n",
        "* Bra_size, hips might not need to be a float- category dtype?\n",
        "* Most of the shoe sizes are around 5-9, but the maximum shoe size is 38! (It is surprising as the website uses UK shoe sizing.)\n",
        "* Size has a minimum of 0 and maximum Size matches the maximum shoe size.\n",
        "\n",
        "Let's visualize the numerical quantities in our dataset as boxplots, to have a better sense of the outliers.\n",
        "\n",
        "<a id=\"5\"></a>\n",
        "## Boxplot of numerical variables"
      ]
    },
    {
      "metadata": {
        "trusted": true,
        "_uuid": "cd363c3bc0f41c8aff52ece76320448238007815",
        "_kg_hide-input": true,
        "id": "b2-JFNUpXLoU"
      },
      "cell_type": "code",
      "source": [
        "num_cols = ['bra_size','hips','quality','shoe_size','size','waist']\n",
        "plt.figure(figsize=(18,9))\n",
        "mc_df[num_cols].boxplot()\n",
        "plt.title(\"Numerical variables in Modcloth dataset\", fontsize=20)\n",
        "plt.show()"
      ],
      "execution_count": null,
      "outputs": []
    },
    {
      "metadata": {
        "_uuid": "b44f0dcc9640c6a6f23fc1504ddfb6ca9002fbca",
        "id": "epkf_GbDXLoU"
      },
      "cell_type": "markdown",
      "source": [
        "<a id=\"6\"></a>\n",
        "## Handling Outliers\n",
        "\n",
        "* **shoe_size**:\n",
        "We can clearly see that the single maximum value of shoe size (38) is an outlier and we should ideally remove that row or handle that outlier value. Let's take a look at that entry in our data."
      ]
    },
    {
      "metadata": {
        "trusted": true,
        "_uuid": "fb102b3319b704cf43220c62a8b8083f55ae80dd",
        "_kg_hide-input": true,
        "_kg_hide-output": true,
        "id": "hIwlNFS0XLoU"
      },
      "cell_type": "code",
      "source": [
        "mc_df[mc_df.shoe_size == 38]"
      ],
      "execution_count": null,
      "outputs": []
    },
    {
      "metadata": {
        "_uuid": "1761fc49243bba1384fc66ab55e3ee768c328e11",
        "id": "JZmFE6ZcXLoV"
      },
      "cell_type": "markdown",
      "source": [
        ">We can see that the entry seems to be legit, except for the shoe size- it could be wrongly entered by the customer or simple noise. We'll enter this as null value for now."
      ]
    },
    {
      "metadata": {
        "trusted": true,
        "_uuid": "83171c52966cbcbe26b5fc75deafe79806caa39b",
        "_kg_hide-output": true,
        "_kg_hide-input": true,
        "id": "oNqeccqjXLoV"
      },
      "cell_type": "code",
      "source": [
        "mc_df.at[37313,'shoe_size'] = None"
      ],
      "execution_count": null,
      "outputs": []
    },
    {
      "metadata": {
        "_uuid": "bbdb1af79fd95484393854a3b522fef8b77d1cf9",
        "id": "v2zP8KUdXLoV"
      },
      "cell_type": "markdown",
      "source": [
        "* **bra_size**:\n",
        "We can take a look at the top 10 bra-sizes (we can see that boxplot shows 2 values as outliers, as per the IQR- Inter-Quartile Range)."
      ]
    },
    {
      "metadata": {
        "trusted": true,
        "_uuid": "9db3c56fc9fed7c0bb0169ab0437cee1297d9a2f",
        "_kg_hide-output": true,
        "scrolled": true,
        "id": "8ufazp0SXLoV"
      },
      "cell_type": "code",
      "source": [
        "mc_df.sort_values(by=['bra_size'], ascending=False).head(10)"
      ],
      "execution_count": null,
      "outputs": []
    },
    {
      "metadata": {
        "_uuid": "3ec8bdb5989d3697676776b58d133176d12ef74b",
        "id": "j5UVLF-9XLoV"
      },
      "cell_type": "markdown",
      "source": [
        "<a id=\"7\"></a>\n",
        "## Joint Distribution of bra_size vs size\n",
        "We can visualize the distribution of bra_size vs size (bivariate) to have an understanding about the values."
      ]
    },
    {
      "metadata": {
        "trusted": true,
        "_uuid": "033783bfb3a124311c3052696c110cd104f12cce",
        "_kg_hide-input": true,
        "id": "rSOLbUlyXLoW"
      },
      "cell_type": "code",
      "source": [
        "plt.figure(figsize=(18,8))\n",
        "plt.xlabel(\"bra_size\", fontsize=18)\n",
        "plt.ylabel(\"size\", fontsize=18)\n",
        "plt.suptitle(\"Joint distribution of bra_size vs size\", fontsize= 20)\n",
        "plt.plot(mc_df.bra_size, mc_df['size'], 'bo', alpha=0.2)\n",
        "plt.show()"
      ],
      "execution_count": null,
      "outputs": []
    },
    {
      "metadata": {
        "_uuid": "9e73d7b2324d3b6fc33a7c847d5ab33c18ef7804",
        "id": "lWw1gv1WXLoW"
      },
      "cell_type": "markdown",
      "source": [
        ">We can't see any significant deviation from usual behavior for bra-size, infact for all other numerical variables as well- we can expect the 'apparent' outliers, from the boxplot, to behave similarly. Now, we 'll head to preprocessing the dataset for suitable visualizations.\n",
        "\n",
        "<a id=\"8\"></a>\n",
        "# Data Cleaning & Pre-processing\n",
        "Let's handle the variables and change the dtype to the appropriate type for each column. We define a function first for creating the distribution plot of different variables. Here, is the initial distribution of features.\n",
        "\n",
        "**Note: The final distribution plots are [below](#dist_plots).**\n",
        "\n",
        "<a id=\"9\"></a>\n",
        "### Initial Distribution of features"
      ]
    },
    {
      "metadata": {
        "_kg_hide-input": true,
        "trusted": true,
        "_uuid": "d1ea1457cda3c52fd451c2c39dcfe12d0dac185b",
        "id": "UPMuBwkHXLoW"
      },
      "cell_type": "code",
      "source": [
        "def plot_dist(col, ax):\n",
        "    mc_df[col][mc_df[col].notnull()].value_counts().plot('bar', facecolor='y', ax=ax)\n",
        "    ax.set_xlabel('{}'.format(col), fontsize=20)\n",
        "    ax.set_title(\"{} on Modcloth\".format(col), fontsize= 18)\n",
        "    return ax\n",
        "\n",
        "f, ax = plt.subplots(3,3, figsize = (22,15))\n",
        "f.tight_layout(h_pad=9, w_pad=2, rect=[0, 0.03, 1, 0.93])\n",
        "cols = ['bra_size','bust', 'category', 'cup_size', 'fit', 'height', 'hips', 'length', 'quality']\n",
        "k = 0\n",
        "for i in range(3):\n",
        "    for j in range(3):\n",
        "        plot_dist(cols[k], ax[i][j])\n",
        "        k += 1\n",
        "__ = plt.suptitle(\"Initial Distributions of features\", fontsize= 25)"
      ],
      "execution_count": null,
      "outputs": []
    },
    {
      "metadata": {
        "_uuid": "c2dc7e1e87c8c517abaa34edc0f1dbea305c41fe",
        "id": "sFKJhVpUXLoW"
      },
      "cell_type": "markdown",
      "source": [
        "<a id=\"10\"></a>\n",
        "### Step-by-step features processing:\n",
        "* **bra_size:** Although it looks numerical, it only ranges from 28 to 48, with most of the sizing lying around 34-38. It makes sense to convert this to *categorical* dtype. We'll fill the NA values into an 'Unknown' category. We can see above that most of the buyers have a bra-sizing of 34 or 36.\n",
        "* **bust**- We can see by looking at the values which are not null, that bust should be an integer dtype. We also need to handle a special case where bust is given as - '37-39'. We'll replace the entry of '37-39' with the mean, i.e.- 38, for analysis purposes. Now we can safely convert the dtype to int. However, considering that **roughly 86% of the bust data is missing**, eventually it was decided to remove this feature.\n",
        "* **category**- none missing; change to dtype *category*.\n",
        "* **cup size**- Change the dtype to *category* for this column. This col has around 7% missing values. Taking a look at the rows where this value is missing might hint us towards how to handle these missing values."
      ]
    },
    {
      "metadata": {
        "_kg_hide-input": true,
        "trusted": true,
        "_uuid": "ee223d46ac4cae59bef94a72d2f46e9b3d9411b1",
        "id": "kS7E1rkPXLoX"
      },
      "cell_type": "code",
      "source": [
        "mc_df.bra_size = mc_df.bra_size.fillna('Unknown')\n",
        "mc_df.bra_size = mc_df.bra_size.astype('category').cat.as_ordered()\n",
        "mc_df.at[37313,'bust'] = '38'\n",
        "mc_df.bust = mc_df.bust.fillna(0).astype(int)\n",
        "mc_df.category = mc_df.category.astype('category')"
      ],
      "execution_count": null,
      "outputs": []
    },
    {
      "metadata": {
        "_kg_hide-output": true,
        "trusted": true,
        "_uuid": "a921aa77e0302b16d33a449b21888b38849a5976",
        "scrolled": true,
        "id": "tlfUdVM4XLoX"
      },
      "cell_type": "code",
      "source": [
        "mc_df[mc_df.cup_size.isnull()].sample(20)"
      ],
      "execution_count": null,
      "outputs": []
    },
    {
      "metadata": {
        "_uuid": "806df50e7ebae0c3fa8296592a8566a080ec9b92",
        "id": "532T_nOPXLoX"
      },
      "cell_type": "markdown",
      "source": [
        ">We can't see anything glaring from the rows where this data is missing, however, as per the curator of the dataset- \"***Note that these datasets are highly sparse, with most products and customers having only a single transaction.***\" It does point to that maybe these customers have not bought lingerie from modcloth yet and so modcloth does not have that data. So, it makes sense to fill these null values as 'Unknown'. From the prevalence of the values like dd/e, ddd/f, and dddd/g, we can assume these to be legit cup_sizes, also confirmed by [**this**](https://www.herroom.com/full-figure-bra-cup-sizing,905,30.html) article, where some brands change the cup size dd to e, ddd to f etc. We can directly convert this to *category* dtype."
      ]
    },
    {
      "metadata": {
        "_uuid": "db91371bb6c87d77d2579eb77c0d912260c6ad67",
        "id": "uDydiGzqXLoX"
      },
      "cell_type": "markdown",
      "source": [
        "* **fit**- Change the dtype to *category* for this column. We can see that a vast majority of customers gave a good 'fit' feedback for the items on Modcloth!"
      ]
    },
    {
      "metadata": {
        "_kg_hide-input": true,
        "trusted": true,
        "_uuid": "b3d9b0dc9fd2e41d464f124c81b532e6246cba21",
        "id": "QqCwC1brXLoX"
      },
      "cell_type": "code",
      "source": [
        "mc_df.cup_size.fillna('Unknown', inplace=True)\n",
        "mc_df.cup_size = mc_df.cup_size.astype('category').cat.as_ordered()\n",
        "\n",
        "mc_df.fit = mc_df.fit.astype('category')"
      ],
      "execution_count": null,
      "outputs": []
    },
    {
      "metadata": {
        "_uuid": "aed23a62601b5861862241f6a73f921d3ec3db30",
        "id": "-_0ppFjhXLoX"
      },
      "cell_type": "markdown",
      "source": [
        "* **height**- We need to parse the height column as currently it is a string object, of the form - Xft. Yin. It will make sense to convert height to cms. We also take a look at the rows where the height data is missing."
      ]
    },
    {
      "metadata": {
        "_kg_hide-input": true,
        "trusted": true,
        "_uuid": "a996e7260b78b3e3594c67b49d36db0936478289",
        "id": "k7vCnurqXLoY"
      },
      "cell_type": "code",
      "source": [
        "def get_cms(x):\n",
        "    if type(x) == type(1.0):\n",
        "        return\n",
        "    #print(x)\n",
        "    try: \n",
        "        return (int(x[0])*30.48) + (int(x[4:-2])*2.54)\n",
        "    except:\n",
        "        return (int(x[0])*30.48)\n",
        "mc_df.height = mc_df.height.apply(get_cms)"
      ],
      "execution_count": null,
      "outputs": []
    },
    {
      "metadata": {
        "_kg_hide-output": true,
        "trusted": true,
        "_uuid": "f93d60257e5e06e48bb93070fd308b3c206d8986",
        "scrolled": true,
        "id": "RD__a3gxXLoY"
      },
      "cell_type": "code",
      "source": [
        "mc_df[mc_df.height.isnull()].head(20)\n",
        "# Do look at the output to be able to better understand the inferences!"
      ],
      "execution_count": null,
      "outputs": []
    },
    {
      "metadata": {
        "_uuid": "83ce06c35d55462861a00e75efb724153106870f",
        "id": "mqOYO690XLoY"
      },
      "cell_type": "markdown",
      "source": [
        "> This filtering gives us interesting observations here:\n",
        "> 1. Some customers have given bra_size, cup_size data, whereas all other measurements are empty- possible first-time purchase at Modcloth for lingerie!\n",
        "> 2. Some customers have given shoe_size and all other measurements are empty- possible first-time purchase at Modcloth for shoes!\n",
        ">     \n",
        "> It leads us to saying that there are some first-time buyers in the dataset, also talked about by the authors of the data in [1]- about the sparsity of the data due to 1 transactions! Also, as we have no data about the height of these customers, it only makes sense to leave the missing values in the column as it is and **possibly remove these rows for future statistical modeling.** We have removed the corresponding rows.\n",
        ">\n",
        ">\n",
        "><a id=\"11\"></a>\n",
        "> # Feature Engineering \n",
        "> ## Creating a new feature of first_time_user\n",
        "> \n",
        "> Building on our observations above, it makes sense to identify the transactions which belong to first time users. We use the following logic to identify such trxns:\n",
        "> * If bra_size/cup_size have a value and height, hips, shoe_size, shoe_width and waist do not- it is a first time buyer of lingerie.\n",
        "> * If shoe_size/shoe_width have a value and bra_size, cup_size, height, hips, and waist do not- it is a first time buyer of shoes.\n",
        "> * If hips/waist have a value and bra_size, cup_size, height, shoe_size, and shoe_width do not- it is a first time buyer of a dress/tops.\n",
        "> \n",
        "> Below we will verify the above logic, with samples, before we create the new feature.\n",
        "> \n",
        "> **1. Looking at the few rows where either bra_size or cup_size exists, but no other measurements are available.**\n",
        ">\n",
        ">**2. Looking at the few rows where either shoe_size or shoe_width exists, but no other measurements are available.**\n",
        ">\n",
        ">**3. Looking at the few rows where either hips or waist exists, but no other measurements are available.**"
      ]
    },
    {
      "metadata": {
        "_kg_hide-input": true,
        "trusted": true,
        "_uuid": "e1fa8f4fb65b49602086147c1c4dece7fdc7a2cf",
        "_kg_hide-output": true,
        "id": "hN1BgxapXLoY"
      },
      "cell_type": "code",
      "source": [
        "print(mc_df[((mc_df.bra_size != 'Unknown') | (mc_df.cup_size != 'Unknown')) & (mc_df.height.isnull()) & (mc_df.hips.isnull()) &\n",
        "     (mc_df.shoe_size.isnull()) & (mc_df.shoe_width.isnull()) & (mc_df.waist.isnull())].head(3))\n",
        "print(mc_df[(mc_df.bra_size == 'Unknown') & (mc_df.cup_size == 'Unknown') & (mc_df.height.isnull()) & (mc_df.hips.isnull()) &\n",
        "     ((mc_df.shoe_size.notnull()) | (mc_df.shoe_width.notnull())) & (mc_df.waist.isnull())].head(3))\n",
        "print(mc_df[(mc_df.bra_size == 'Unknown') & (mc_df.cup_size == 'Unknown') & (mc_df.height.isnull()) & ((mc_df.hips.notnull()) | (mc_df.waist.notnull())) &\n",
        "     (mc_df.shoe_size.isnull()) & (mc_df.shoe_width.isnull())].head(3))"
      ],
      "execution_count": null,
      "outputs": []
    },
    {
      "metadata": {
        "_uuid": "6444762751d31966aeebd91e029d93e2f96d8412",
        "id": "8uVpaidIXLoY"
      },
      "cell_type": "markdown",
      "source": [
        ">Now we add a new column to the original data- *first_time_user*, which is a bool feature which indicates if a user, of a transaction, is a first-time user or not. This is based on the grounds that Modcloth has no previous information about the person, infact it is possible that the new user did multiple transactions in the first time!"
      ]
    },
    {
      "metadata": {
        "_kg_hide-input": true,
        "trusted": true,
        "_uuid": "182dbd7d520b00484382f717c6a2681c8e618141",
        "id": "RxJp6aa3XLoZ"
      },
      "cell_type": "code",
      "source": [
        "lingerie_cond = (((mc_df.bra_size != 'Unknown') | (mc_df.cup_size != 'Unknown')) & (mc_df.height.isnull()) & (mc_df.hips.isnull()) &\n",
        "     (mc_df.shoe_size.isnull()) & (mc_df.shoe_width.isnull()) & (mc_df.waist.isnull()))\n",
        "shoe_cond = ((mc_df.bra_size == 'Unknown') & (mc_df.cup_size == 'Unknown') & (mc_df.height.isnull()) & (mc_df.hips.isnull()) &\n",
        "     ((mc_df.shoe_size.notnull()) | (mc_df.shoe_width.notnull())) & (mc_df.waist.isnull()))\n",
        "dress_cond = ((mc_df.bra_size == 'Unknown') & (mc_df.cup_size == 'Unknown') & (mc_df.height.isnull()) & ((mc_df.hips.notnull()) | (mc_df.waist.notnull())) &\n",
        "     (mc_df.shoe_size.isnull()) & (mc_df.shoe_width.isnull()))\n",
        "#print(len(mc_df[lingerie_cond]))   # To check if these items add up in the final column we are adding.\n",
        "#print(len(mc_df[shoe_cond]))\n",
        "#print(len(mc_df[dress_cond]))\n",
        "mc_df['first_time_user'] = (lingerie_cond | shoe_cond | dress_cond)\n",
        "print(\"Column added!\")\n",
        "print(\"Total transactions by first time users who bought bra, shoes, or a dress: \" + str(sum(mc_df.first_time_user)))\n",
        "print(\"Total first time users: \" + str(len(mc_df[(lingerie_cond | shoe_cond | dress_cond)].user_id.unique())))"
      ],
      "execution_count": null,
      "outputs": []
    },
    {
      "metadata": {
        "_uuid": "ab2f779e5a84f99d02fd837d0f436cb81981c2f3",
        "id": "1vPY1f8fXLoZ"
      },
      "cell_type": "markdown",
      "source": [
        "* **hips**-\n",
        "Hips column has a lot of missing values ~ 32.28%! We know this data would possibly be missing because Modcloth never got this data from the user most probably. We cannot remove such a significant chunk of the data, so we need another way of handling this feature. We will bin the data- on the basis of quartiles.\n",
        "* **length**- There are only 35 missing rows in length, we'll take a look at these. We saw that most probably the customers did not leave behind the feedback or the data was corrupted in these rows. However, we should be able to impute these values using review related fields (if they are filled!). Or we could also simply choose to remove these rows. For the sake of this analysis, we will remove these rows.\n",
        "* **quality**- There are only 68 missing rows in quality, we'll took a look at these. Similarly to length, the customers did not leave behind the feedback or the data was corrupted in these rows. We will remove these rows and convert the dtype to an ordinal variable (ordered categorical)."
      ]
    },
    {
      "metadata": {
        "_kg_hide-input": true,
        "trusted": true,
        "_uuid": "736a8fd83468caadb92fcfd9d759642e9397f2ae",
        "id": "_Ts_2icxXLoZ"
      },
      "cell_type": "code",
      "source": [
        "# Handling hips column\n",
        "mc_df.hips = mc_df.hips.fillna(-1.0)\n",
        "bins = [-5,0,31,37,40,44,75]\n",
        "labels = ['Unknown','XS','S','M', 'L','XL']\n",
        "mc_df.hips = pd.cut(mc_df.hips, bins, labels=labels)\n",
        "\n",
        "# Handling length column\n",
        "missing_rows = mc_df[mc_df.length.isnull()].index\n",
        "mc_df.drop(missing_rows, axis = 0, inplace=True)\n",
        "\n",
        "# Handling quality\n",
        "missing_rows = mc_df[mc_df.quality.isnull()].index\n",
        "mc_df.drop(missing_rows, axis = 0, inplace=True)\n",
        "mc_df.quality = mc_df.quality.astype('category').cat.as_ordered()"
      ],
      "execution_count": null,
      "outputs": []
    },
    {
      "metadata": {
        "_uuid": "465f1a40eefa83a79f1db021b75e8fb574791f25",
        "id": "mMo-BaFPXLoZ"
      },
      "cell_type": "markdown",
      "source": [
        "* **review_summary/ review_text**- The NA values are there because these reviews are simply not provided by customers. Let's just fill those as 'Unknown'.\n",
        "* **shoe_size** -  Roughly 66.3% of the shoe_size data is missing. We will change the shoe_size into *category* dtype and fill the NA values as 'Unknown'.\n",
        "* **shoe_width** - Roughly 77.5% of the shoe_width data is missing. We will fill the NA values as 'Unknown' \n",
        "* **waist**- Waist column has the highest number of missing values - 96.5%! We will drop this column.\n",
        "* **bust**- 85.6% missing values and highly correlated to bra_size. Remove.\n",
        "* **user_name**- user_name itself is not needed with the user_id given. Remove.\n",
        "\n",
        "To convert shoe_width to an ordered category type we have to import CategoricalDType and supply the order of the categories."
      ]
    },
    {
      "metadata": {
        "_kg_hide-input": true,
        "_kg_hide-output": false,
        "trusted": true,
        "_uuid": "a1c93638fff62c5f8a1855c65aa982b788b32c6a",
        "id": "c6cDSPYRXLoZ"
      },
      "cell_type": "code",
      "source": [
        "from pandas.api.types import CategoricalDtype\n",
        "shoe_widths_type = CategoricalDtype(categories=['Unknown','narrow','average','wide'], ordered=True)\n",
        "\n",
        "mc_df.review_summary = mc_df.review_summary.fillna('Unknown')\n",
        "mc_df.review_text = mc_df.review_text.fillna('Unkown')\n",
        "mc_df.shoe_size = mc_df.shoe_size.fillna('Unknown')\n",
        "mc_df.shoe_size = mc_df.shoe_size.astype('category').cat.as_ordered()\n",
        "mc_df.shoe_width = mc_df.shoe_width.fillna('Unknown')\n",
        "mc_df.shoe_width = mc_df.shoe_width.astype(shoe_widths_type)\n",
        "mc_df.drop(['waist', 'bust', 'user_name'], axis=1, inplace=True)\n",
        "missing_rows = mc_df[mc_df.height.isnull()].index\n",
        "mc_df.drop(missing_rows, axis = 0, inplace=True)"
      ],
      "execution_count": null,
      "outputs": []
    },
    {
      "metadata": {
        "trusted": true,
        "_uuid": "e80cf9bef4d5c67bfd3d5344056cdbea2c982202",
        "id": "v_9WUhKxXLoZ"
      },
      "cell_type": "code",
      "source": [
        "mc_df.info()"
      ],
      "execution_count": null,
      "outputs": []
    },
    {
      "metadata": {
        "_uuid": "17cd1c58dfe8132ab28a3a23262d0771f14f292e",
        "id": "Cfgo2Nu9XLoa"
      },
      "cell_type": "markdown",
      "source": [
        "We can see that now there are no more missing values! We can move onto visualizing and gaining more insight about the data."
      ]
    },
    {
      "metadata": {
        "_uuid": "f3c3a9576cf59e06180ff442fd49851e51d0a2ff",
        "id": "kZiHllQ6XLoa"
      },
      "cell_type": "markdown",
      "source": [
        "<a id=\"12\"></a>\n",
        "# EDA via visualizations\n",
        "\n",
        "<a id=\"13\"></a>\n",
        "<a id='dist_plots'></a>\n",
        "## 1. Distribution of different features over Modcloth dataset"
      ]
    },
    {
      "metadata": {
        "trusted": true,
        "_kg_hide-input": true,
        "_uuid": "a3d7428e62614baf4f157e36e20b1db2bc125f06",
        "id": "nmM40walXLoa"
      },
      "cell_type": "code",
      "source": [
        "def plot_dist(col, ax):\n",
        "    if col != 'height':\n",
        "        mc_df[col].value_counts().plot('bar', facecolor='y', ax=ax)\n",
        "    else:\n",
        "        mc_df[col].plot('density', ax=ax, bw_method = 0.15, color='y')\n",
        "        ax.set_xlim(130,200)\n",
        "        ax.set_ylim(0, 0.07)\n",
        "    ax.set_xlabel('{}'.format(col), fontsize=18)\n",
        "    ax.set_title(\"{} on Modcloth\".format(col), fontsize= 18)\n",
        "    return ax\n",
        "\n",
        "f, ax = plt.subplots(2,4, figsize = (22,15))\n",
        "f.tight_layout(h_pad=9, w_pad=2, rect=[0, 0.03, 1, 0.93])\n",
        "cols = ['bra_size','category', 'cup_size', 'fit', 'height', 'hips', 'length', 'quality']\n",
        "k = 0\n",
        "for i in range(2):\n",
        "    for j in range(4):\n",
        "        plot_dist(cols[k], ax[i][j])\n",
        "        k += 1\n",
        "__ = plt.suptitle(\"Final Distributions of different features\", fontsize= 23)"
      ],
      "execution_count": null,
      "outputs": []
    },
    {
      "metadata": {
        "_uuid": "7806ad1d954282a39611294b93286ef0040d21c7",
        "id": "1PSYc3f0XLoa"
      },
      "cell_type": "markdown",
      "source": [
        "<a id=\"14\"></a>\n",
        "## 2. Categories vs. Fit/Length/Quality\n",
        "Here, we will visualize how the items of different categories fared in terms of - fit, length, and quality. This will tell Modcloth which categories need more attention! \n",
        "\n",
        "I have plotted 2 distributions in categories here:\n",
        "\n",
        "**1. Unnormalized**- viewing the frequency counts directly- for comparison across categories. We also include the best fit, length, or quality measure in this plot.\n",
        "\n",
        "**2. Normalized** -  viewing the distribution for the category after normalizing the counts, amongst the category itself- it will help us compare what are major reason for return amongst the category itself. We exclude the best sizing & quality measures, so as to focus on the pre-dominant reasons of return per category (if any)."
      ]
    },
    {
      "metadata": {
        "_kg_hide-input": true,
        "trusted": true,
        "_uuid": "4186f84725284c59a349d7329e7560990f29bace",
        "id": "OYp7aQxVXLoa"
      },
      "cell_type": "code",
      "source": [
        "def plot_barh(df,col, cmap = None, stacked=False, norm = None):\n",
        "    df.plot(kind='barh', colormap=cmap, stacked=stacked)\n",
        "    fig = plt.gcf()\n",
        "    fig.set_size_inches(24,12)\n",
        "    plt.title(\"Category vs {}-feedback -  Modcloth {}\".format(col, '(Normalized)' if norm else ''), fontsize= 20)\n",
        "    plt.ylabel('Category', fontsize = 18)\n",
        "    plot = plt.xlabel('Frequency', fontsize=18)\n",
        "    \n",
        "def norm_counts(t):\n",
        "    norms = np.linalg.norm(t.fillna(0), axis=1)\n",
        "    t_norm = t[0:0]\n",
        "    for row, euc in zip(t.iterrows(), norms):\n",
        "        t_norm.loc[row[0]] = list(map(lambda x: x/euc, list(row[1])))\n",
        "    return t_norm"
      ],
      "execution_count": null,
      "outputs": []
    },
    {
      "metadata": {
        "_kg_hide-input": true,
        "trusted": true,
        "_uuid": "be31b4588322656b16d40d14960b8b392c14c034",
        "_kg_hide-output": true,
        "id": "ZHUpZF5fXLoa"
      },
      "cell_type": "code",
      "source": [
        "mc_df.category.value_counts()"
      ],
      "execution_count": null,
      "outputs": []
    },
    {
      "metadata": {
        "_uuid": "2825ba3e29290c7a8ab3d66456309a5a27d521ff",
        "id": "kmvY3cQmXLob"
      },
      "cell_type": "markdown",
      "source": [
        "- **Category vs. Fit**"
      ]
    },
    {
      "metadata": {
        "_kg_hide-input": true,
        "trusted": true,
        "_uuid": "15f7c5ac2895b31546dd0e6a311f98e2f59f3e2c",
        "id": "B4dD0ERFXLob"
      },
      "cell_type": "code",
      "source": [
        "g_by_category = mc_df.groupby('category')\n",
        "cat_fit = g_by_category['fit'].value_counts()\n",
        "cat_fit = cat_fit.unstack()\n",
        "cat_fit_norm = norm_counts(cat_fit)\n",
        "cat_fit_norm.drop(['fit'], axis=1, inplace=True)\n",
        "plot_barh(cat_fit, 'fit')"
      ],
      "execution_count": null,
      "outputs": []
    },
    {
      "metadata": {
        "_uuid": "bedf315b5e7b76915628ae4c3a8927c99eb6069f",
        "id": "lJ7wJ7SbXLob"
      },
      "cell_type": "markdown",
      "source": [
        "Observations:\n",
        "* Best-fit response (*fit*) has been highest for *new, dresses, and tops* categories. \n",
        "* Overall maximum bad fit-feedback has belonged mostly to 2 categories- *new and tops*! *Dresses and bottoms* categories follow. \n",
        "* *Weddings, outerwear, and sale* are not prominent in our visualization- mostly due to the lack of transactions in these categories."
      ]
    },
    {
      "metadata": {
        "_kg_hide-input": true,
        "trusted": true,
        "_uuid": "e25d8f48184a88f604ec71938f0560f49a920c49",
        "id": "fbelX6KzXLob"
      },
      "cell_type": "code",
      "source": [
        "plot_barh(cat_fit_norm, 'fit', norm=1, cmap='Set3')"
      ],
      "execution_count": null,
      "outputs": []
    },
    {
      "metadata": {
        "_uuid": "ec2818e3e8286dbd4a39f4906318e0f9415e650c",
        "id": "8cRUgT1XXLob"
      },
      "cell_type": "markdown",
      "source": [
        "Here, we can see that amongst the categories themselves:\n",
        "* Wedding, tops, & outerwear categories usually have more returns due to large sizing.\n",
        "* New, sale, & bottoms usually have frequent returns due to small sized buys.\n",
        "* Dresses has similar return reasons, in terms of fit."
      ]
    },
    {
      "metadata": {
        "_uuid": "8115206e8059e0b74dc4b71d72621511d3a644d3",
        "id": "R9TvSKTmXLob"
      },
      "cell_type": "markdown",
      "source": [
        "- **Category vs Length**"
      ]
    },
    {
      "metadata": {
        "_kg_hide-input": true,
        "trusted": true,
        "_uuid": "ec32b19f18c1de5ac894581670b71b3c68bc6f98",
        "id": "aNJEs00LXLob"
      },
      "cell_type": "code",
      "source": [
        "cat_len = g_by_category['length'].value_counts()\n",
        "cat_len = cat_len.unstack()\n",
        "plot_barh(cat_len, 'length', 'Set3')"
      ],
      "execution_count": null,
      "outputs": []
    },
    {
      "metadata": {
        "_uuid": "fca5926ad5a528f3b5113b0bc4c43b4a2850a73a",
        "id": "RYwGgfViXLoc"
      },
      "cell_type": "markdown",
      "source": [
        "* Best length-fitting ('just right') belongs to tops, new, dresses and bottoms! (Also due to predominance of these categories in our total transactions- **they make up almost 92% of our transactions!**)\n",
        "* All transactions share a similar order of reasons for return (in the order of importance), which is kind of intuitive as well:\n",
        "    * slightly long\n",
        "    * slightly short\n",
        "    * very long\n",
        "    * very short"
      ]
    },
    {
      "metadata": {
        "_kg_hide-input": true,
        "trusted": true,
        "_uuid": "5db2211018473c9ddef2f7280087775de869065e",
        "id": "Bw1i0AeiXLoc"
      },
      "cell_type": "code",
      "source": [
        "cat_len_norm = norm_counts(cat_len)\n",
        "cat_len_norm.drop(['just right'], axis = 1, inplace=True)\n",
        "plot_barh(cat_len_norm, 'length', cmap='Set3', norm=1)"
      ],
      "execution_count": null,
      "outputs": []
    },
    {
      "metadata": {
        "_uuid": "238cd4200ab0d770d564c4c20b933289fbd46e72",
        "id": "rHOK3lMuXLoc"
      },
      "cell_type": "markdown",
      "source": [
        "The normalized plot, focusing on the problems allows us to dig deeper into length-wise reasons of return per category:\n",
        "* Customers tend to make 'slightly long' purchases in *bottoms, new, sale, & tops* categories.\n",
        "* 'slightly short' returns take place mostly in *dresses and wedding * categories."
      ]
    },
    {
      "metadata": {
        "_uuid": "bbb3ab640bd28e5b6b3acb9fc67b18d41acf19bd",
        "id": "Ffobjq1nXLoc"
      },
      "cell_type": "markdown",
      "source": [
        "- **Category vs Quality**"
      ]
    },
    {
      "metadata": {
        "_kg_hide-input": true,
        "trusted": true,
        "_uuid": "0384115040f3a7a3db523c6514eb7af122814252",
        "id": "5fn2J0KUXLoc"
      },
      "cell_type": "code",
      "source": [
        "cat_quality = g_by_category['quality'].value_counts()\n",
        "cat_quality = cat_quality.unstack()\n",
        "plot_barh(cat_quality, 'quality', 'Set3', stacked=1)"
      ],
      "execution_count": null,
      "outputs": []
    },
    {
      "metadata": {
        "_uuid": "a34e6b6036d995a1391b05190805d9d8dd478c03",
        "id": "EJhHO1fTXLoc"
      },
      "cell_type": "markdown",
      "source": [
        "* Almost the same share of people have rated the categories of *tops, new, dresses, & bottoms* as 5, 4, & 3.\n",
        "* All the trends in terms of share of ratings seems to be constant across categories."
      ]
    },
    {
      "metadata": {
        "trusted": true,
        "_uuid": "860f86858c68db89e5c7001d2d8a83799f5edc03",
        "_kg_hide-input": true,
        "id": "aub9cjFLXLoc"
      },
      "cell_type": "code",
      "source": [
        "cat_quality_norm = norm_counts(cat_quality)\n",
        "cat_quality_norm.drop([5.0], axis = 1, inplace=True)\n",
        "plot_barh(cat_quality_norm, 'quality', 'Set3', stacked=1, norm=1)"
      ],
      "execution_count": null,
      "outputs": []
    },
    {
      "metadata": {
        "_uuid": "5803a4a47c7ed5a52d6797a20b7751d5f8c47d8e",
        "id": "gokQpSEWXLod"
      },
      "cell_type": "markdown",
      "source": [
        "* Here also we can assert our previous observation that all the categories share similar share of ratings.\n",
        "* To nitpick- *new , sale & tops* seem to have a higher share than normal of bad ratings (1.0 & 2.0) in terms of quality."
      ]
    },
    {
      "metadata": {
        "_uuid": "b4bbc0ffe09e2eae2350990c765b4f8edc881dee",
        "id": "PjBHEPHZXLod"
      },
      "cell_type": "markdown",
      "source": [
        "<a id=\"15\"></a>\n",
        "### 2. Total Number of Users vs Total Number of items bought\n",
        "Visualizing the total number of users who bought *x* number of items, where we affirm the author's [[1]](#references) statement that the data is very sparse with a major chunk (38.45%) of the users who bought only 1 item from the website during the time this data was collected. "
      ]
    },
    {
      "metadata": {
        "_kg_hide-input": true,
        "trusted": true,
        "_uuid": "bae1fca79ae4f68ca553b3c4a69f051102651eda",
        "id": "gLgXRLaaXLod"
      },
      "cell_type": "code",
      "source": [
        "# Users who bought so many items\n",
        "items_bought = []\n",
        "total_users = []\n",
        "for i in range(min(mc_df.user_id.value_counts()), max(mc_df.user_id.value_counts())+1):\n",
        "    all_users = sum(mc_df.user_id.value_counts() == i)\n",
        "    if all_users != 0:\n",
        "        total_users.append(all_users)\n",
        "        items_bought.append(i)\n",
        "plt.xlabel(\"Number of items bought\", fontsize = 18)\n",
        "plt.ylabel(\"Number of users\", fontsize = 18)\n",
        "plt.title(\"Distribution of items bought by users on Modcloth\")\n",
        "__ = sns.barplot(x=items_bought, y=total_users, color='y')\n",
        "fig = plt.gcf()\n",
        "fig.set_size_inches(20,10)"
      ],
      "execution_count": null,
      "outputs": []
    },
    {
      "metadata": {
        "_uuid": "913fd8a7a6b1aa8eeeb6e52a4f7bb1791328ddc8",
        "id": "bIYw5qi-XLod"
      },
      "cell_type": "markdown",
      "source": [
        "* A **major chunk of the users (~40%) have only bought 1 item from Modcloth** during the time this data was collected. Although we found only 903 out of those were first time users (no previous data existed of these customers). This explains and reaffirms the dataset curator's statement about sparsity of the data.\n",
        "* Most users bought 1, 2, or 3 products from Modcloth out of the ~80,000 transactions in this dataset."
      ]
    },
    {
      "metadata": {
        "_uuid": "10959acc07b36401767918be8e33a19937dc68ee",
        "id": "RO3wZsATXLod"
      },
      "cell_type": "markdown",
      "source": [
        "<a id=\"16\"></a>\n",
        "## 3. Height vs shoe_size -  Modcloth customers\n",
        "It would be interesting to see if there exists a linear relation between the height of a person and their shoe-size, i.e.- it will mean shoe-size increases with increase in height!"
      ]
    },
    {
      "metadata": {
        "_kg_hide-input": true,
        "trusted": true,
        "_uuid": "ff6cbdacc0c79f822bbaa46b2c647bdee201f3c4",
        "id": "COq3L6xRXLod"
      },
      "cell_type": "code",
      "source": [
        "fig = plt.gcf()\n",
        "fig.set_size_inches(20,10)\n",
        "__ = sns.violinplot(x='shoe_size', y='height',data=mc_df, size = 20)"
      ],
      "execution_count": null,
      "outputs": []
    },
    {
      "metadata": {
        "_uuid": "5a4e2fa1f3cdb4f51d7cc3425c72e4fe1dda0cc6",
        "id": "_VovRZJdXLod"
      },
      "cell_type": "markdown",
      "source": [
        "We can see here a \"linear correlation between foot size and height\". This observation was also seen [here](https://www.statcrunch.com/5.0/viewreport.php?reportid=35115)."
      ]
    },
    {
      "metadata": {
        "_uuid": "992efa1db79c5609486027eb814030c30cff0566",
        "id": "B5s0b4wAXLoe"
      },
      "cell_type": "markdown",
      "source": [
        "### Thank you so much reading this EDA and feel to reach out to me/comment below for questions. Please share any constructive feedback you have and if you like the work- please upvote!\n",
        "\n",
        "#### Looking forward to more Kaggling! Cheers. "
      ]
    },
    {
      "metadata": {
        "_uuid": "7cb5eb25d1c77eb0a9291bbf86d7dd2348ea2472",
        "id": "K-9CR4CbXLoe"
      },
      "cell_type": "markdown",
      "source": [
        "<a id='references'></a>\n",
        "# References:\n",
        "    [1] Rishabh Misra, Mengting Wan, Julian McAuley Decomposing Fit Semantics for Product Size Recommendation in Metric Spaces. RecSys, 2018.\n",
        "    \n",
        "<a id='assumptions'></a>\n",
        "# Assumptions:\n",
        "The data source has been assumed as following on the Modcloth dataset: \n",
        "* item_id- from item.\n",
        "* waist- from user input.\n",
        "* size - from item.\n",
        "* quality- from user input.\n",
        "* cup size- from user input.\n",
        "* hips- from user input.\n",
        "* bra size- from user input.\n",
        "* category- from item.\n",
        "* bust- from user input.\n",
        "* height- from user input\n",
        "* user_name- from user input\n",
        "* length - from user input\n",
        "* fit- from user input\n",
        "* user_id- from user.\n",
        "\n",
        "\n",
        "*Aditya Agrawal*"
      ]
    }
  ],
  "metadata": {
    "kernelspec": {
      "display_name": "Python 3",
      "language": "python",
      "name": "python3"
    },
    "language_info": {
      "name": "python",
      "version": "3.6.6",
      "mimetype": "text/x-python",
      "codemirror_mode": {
        "name": "ipython",
        "version": 3
      },
      "pygments_lexer": "ipython3",
      "nbconvert_exporter": "python",
      "file_extension": ".py"
    },
    "colab": {
      "provenance": [],
      "collapsed_sections": [
        "sFKJhVpUXLoW",
        "PjBHEPHZXLod",
        "B5s0b4wAXLoe"
      ]
    }
  },
  "nbformat": 4,
  "nbformat_minor": 0
}